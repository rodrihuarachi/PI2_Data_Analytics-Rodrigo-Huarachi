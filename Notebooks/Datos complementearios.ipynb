{
 "cells": [
  {
   "cell_type": "markdown",
   "metadata": {},
   "source": [
    "<h1 align=\"center\"> Datos Complementarios </h1>"
   ]
  },
  {
   "cell_type": "markdown",
   "metadata": {},
   "source": [
    "<center>En este Jupyter Notebook realizaremos Web Scraping a la API de <strong>Buenos Aires BA DATA</strong> el cual podemos consultar el Barrio, Comuna, Comisaría, Área Hospitalaria, Región Sanitaria y Distrito Escolar para un lugar determinado, através de coordenadas como <em>Latitud y Longitud</em>. En este caso, consultaremos el Barrio para poder complementar al dataset que tenemos de <strong>HOMICIDIOS</strong> en <em>Siniestros viales</em>.\n",
    "<br>Y además, vamos a extraer información de los <strong>Censos del 2010 y 2022</strong> desde una página de <em>Wikipedia</em> para poder elaborar uno de los KPIs solicitados para este proyecto.</center>"
   ]
  },
  {
   "cell_type": "markdown",
   "metadata": {},
   "source": [
    "## Importación de librerias"
   ]
  },
  {
   "cell_type": "code",
   "execution_count": 1,
   "metadata": {},
   "outputs": [],
   "source": [
    "import pandas as pd\n",
    "import requests\n",
    "from bs4 import BeautifulSoup\n",
    "import seaborn as sns \n",
    "import matplotlib.pyplot as plt \n",
    "import plotly.express as px\n",
    "\n",
    "import warnings\n",
    "warnings.filterwarnings(\"ignore\")"
   ]
  },
  {
   "cell_type": "markdown",
   "metadata": {},
   "source": [
    "## API Buenos Aires BA DATA"
   ]
  },
  {
   "cell_type": "markdown",
   "metadata": {},
   "source": [
    "### Lectura del dataset *Homicidios*\n",
    "\n",
    "Leemos el archivo CSV y lo convertimo en un DataFrame."
   ]
  },
  {
   "cell_type": "code",
   "execution_count": 2,
   "metadata": {},
   "outputs": [],
   "source": [
    "homicidios = pd.read_csv('../Datasets/Cleans/homicidios_hechos.csv')"
   ]
  },
  {
   "cell_type": "code",
   "execution_count": 3,
   "metadata": {},
   "outputs": [
    {
     "data": {
      "text/html": [
       "<div>\n",
       "<style scoped>\n",
       "    .dataframe tbody tr th:only-of-type {\n",
       "        vertical-align: middle;\n",
       "    }\n",
       "\n",
       "    .dataframe tbody tr th {\n",
       "        vertical-align: top;\n",
       "    }\n",
       "\n",
       "    .dataframe thead th {\n",
       "        text-align: right;\n",
       "    }\n",
       "</style>\n",
       "<table border=\"1\" class=\"dataframe\">\n",
       "  <thead>\n",
       "    <tr style=\"text-align: right;\">\n",
       "      <th></th>\n",
       "      <th>Unnamed: 0</th>\n",
       "      <th>Id Hecho</th>\n",
       "      <th>Nro de víctimas</th>\n",
       "      <th>Fecha</th>\n",
       "      <th>Año</th>\n",
       "      <th>Mes</th>\n",
       "      <th>Día</th>\n",
       "      <th>Hora</th>\n",
       "      <th>Hora entera</th>\n",
       "      <th>Lugar del hecho</th>\n",
       "      <th>...</th>\n",
       "      <th>Comuna</th>\n",
       "      <th>XY (CABA)</th>\n",
       "      <th>POS X</th>\n",
       "      <th>POS Y</th>\n",
       "      <th>Participantes</th>\n",
       "      <th>Víctima</th>\n",
       "      <th>Acusado</th>\n",
       "      <th>Día de la Semana</th>\n",
       "      <th>Tipo de Día</th>\n",
       "      <th>Barrio</th>\n",
       "    </tr>\n",
       "  </thead>\n",
       "  <tbody>\n",
       "    <tr>\n",
       "      <th>0</th>\n",
       "      <td>0</td>\n",
       "      <td>2016-0001</td>\n",
       "      <td>1</td>\n",
       "      <td>2016-01-01</td>\n",
       "      <td>2016</td>\n",
       "      <td>Enero</td>\n",
       "      <td>1</td>\n",
       "      <td>04:00:00</td>\n",
       "      <td>4.0</td>\n",
       "      <td>AV PIEDRA BUENA Y AV FERNANDEZ DE LA CRUZ</td>\n",
       "      <td>...</td>\n",
       "      <td>8</td>\n",
       "      <td>Point (98896.78238426 93532.43437792)</td>\n",
       "      <td>-58.475340</td>\n",
       "      <td>-34.687570</td>\n",
       "      <td>MOTO-AUTO</td>\n",
       "      <td>MOTO</td>\n",
       "      <td>AUTO</td>\n",
       "      <td>Viernes</td>\n",
       "      <td>Día de Semana</td>\n",
       "      <td>Villa Riachuelo</td>\n",
       "    </tr>\n",
       "    <tr>\n",
       "      <th>1</th>\n",
       "      <td>1</td>\n",
       "      <td>2016-0002</td>\n",
       "      <td>1</td>\n",
       "      <td>2016-01-02</td>\n",
       "      <td>2016</td>\n",
       "      <td>Enero</td>\n",
       "      <td>2</td>\n",
       "      <td>01:15:00</td>\n",
       "      <td>1.0</td>\n",
       "      <td>AV GRAL PAZ  Y AV DE LOS CORRALES</td>\n",
       "      <td>...</td>\n",
       "      <td>9</td>\n",
       "      <td>Point (95832.05571093 95505.41641999)</td>\n",
       "      <td>-58.508775</td>\n",
       "      <td>-34.669777</td>\n",
       "      <td>AUTO-PASAJEROS</td>\n",
       "      <td>AUTO</td>\n",
       "      <td>PASAJEROS</td>\n",
       "      <td>Sábado</td>\n",
       "      <td>Fin de Semana</td>\n",
       "      <td>Sobre Gral. Paz</td>\n",
       "    </tr>\n",
       "    <tr>\n",
       "      <th>2</th>\n",
       "      <td>2</td>\n",
       "      <td>2016-0003</td>\n",
       "      <td>1</td>\n",
       "      <td>2016-01-03</td>\n",
       "      <td>2016</td>\n",
       "      <td>Enero</td>\n",
       "      <td>3</td>\n",
       "      <td>07:00:00</td>\n",
       "      <td>7.0</td>\n",
       "      <td>AV ENTRE RIOS 2034</td>\n",
       "      <td>...</td>\n",
       "      <td>1</td>\n",
       "      <td>Point (106684.29090040 99706.57687843)</td>\n",
       "      <td>-58.390403</td>\n",
       "      <td>-34.631894</td>\n",
       "      <td>MOTO-AUTO</td>\n",
       "      <td>MOTO</td>\n",
       "      <td>AUTO</td>\n",
       "      <td>Domingo</td>\n",
       "      <td>Fin de Semana</td>\n",
       "      <td>Constitucion</td>\n",
       "    </tr>\n",
       "    <tr>\n",
       "      <th>3</th>\n",
       "      <td>3</td>\n",
       "      <td>2016-0004</td>\n",
       "      <td>1</td>\n",
       "      <td>2016-01-10</td>\n",
       "      <td>2016</td>\n",
       "      <td>Enero</td>\n",
       "      <td>10</td>\n",
       "      <td>00:00:00</td>\n",
       "      <td>0.0</td>\n",
       "      <td>AV LARRAZABAL Y GRAL VILLEGAS CONRADO</td>\n",
       "      <td>...</td>\n",
       "      <td>8</td>\n",
       "      <td>Point (99840.65224780 94269.16534422)</td>\n",
       "      <td>-58.465039</td>\n",
       "      <td>-34.680930</td>\n",
       "      <td>MOTO-SD</td>\n",
       "      <td>MOTO</td>\n",
       "      <td>SD</td>\n",
       "      <td>Domingo</td>\n",
       "      <td>Fin de Semana</td>\n",
       "      <td>Villa Lugano</td>\n",
       "    </tr>\n",
       "    <tr>\n",
       "      <th>4</th>\n",
       "      <td>4</td>\n",
       "      <td>2016-0005</td>\n",
       "      <td>1</td>\n",
       "      <td>2016-01-21</td>\n",
       "      <td>2016</td>\n",
       "      <td>Enero</td>\n",
       "      <td>21</td>\n",
       "      <td>05:20:00</td>\n",
       "      <td>5.0</td>\n",
       "      <td>AV SAN JUAN Y PRESIDENTE LUIS SAENZ PEÑA</td>\n",
       "      <td>...</td>\n",
       "      <td>1</td>\n",
       "      <td>Point (106980.32827929 100752.16915795)</td>\n",
       "      <td>-58.387183</td>\n",
       "      <td>-34.622466</td>\n",
       "      <td>MOTO-PASAJEROS</td>\n",
       "      <td>MOTO</td>\n",
       "      <td>PASAJEROS</td>\n",
       "      <td>Jueves</td>\n",
       "      <td>Día de Semana</td>\n",
       "      <td>Constitucion</td>\n",
       "    </tr>\n",
       "  </tbody>\n",
       "</table>\n",
       "<p>5 rows × 24 columns</p>\n",
       "</div>"
      ],
      "text/plain": [
       "   Unnamed: 0   Id Hecho  Nro de víctimas       Fecha   Año    Mes  Día  \\\n",
       "0           0  2016-0001                1  2016-01-01  2016  Enero    1   \n",
       "1           1  2016-0002                1  2016-01-02  2016  Enero    2   \n",
       "2           2  2016-0003                1  2016-01-03  2016  Enero    3   \n",
       "3           3  2016-0004                1  2016-01-10  2016  Enero   10   \n",
       "4           4  2016-0005                1  2016-01-21  2016  Enero   21   \n",
       "\n",
       "       Hora  Hora entera                            Lugar del hecho  ...  \\\n",
       "0  04:00:00          4.0  AV PIEDRA BUENA Y AV FERNANDEZ DE LA CRUZ  ...   \n",
       "1  01:15:00          1.0          AV GRAL PAZ  Y AV DE LOS CORRALES  ...   \n",
       "2  07:00:00          7.0                         AV ENTRE RIOS 2034  ...   \n",
       "3  00:00:00          0.0      AV LARRAZABAL Y GRAL VILLEGAS CONRADO  ...   \n",
       "4  05:20:00          5.0  AV SAN JUAN Y PRESIDENTE LUIS SAENZ PEÑA   ...   \n",
       "\n",
       "  Comuna                                XY (CABA)      POS X      POS Y  \\\n",
       "0      8    Point (98896.78238426 93532.43437792) -58.475340 -34.687570   \n",
       "1      9    Point (95832.05571093 95505.41641999) -58.508775 -34.669777   \n",
       "2      1   Point (106684.29090040 99706.57687843) -58.390403 -34.631894   \n",
       "3      8    Point (99840.65224780 94269.16534422) -58.465039 -34.680930   \n",
       "4      1  Point (106980.32827929 100752.16915795) -58.387183 -34.622466   \n",
       "\n",
       "    Participantes Víctima    Acusado  Día de la Semana    Tipo de Día  \\\n",
       "0       MOTO-AUTO    MOTO       AUTO           Viernes  Día de Semana   \n",
       "1  AUTO-PASAJEROS    AUTO  PASAJEROS            Sábado  Fin de Semana   \n",
       "2       MOTO-AUTO    MOTO       AUTO           Domingo  Fin de Semana   \n",
       "3         MOTO-SD    MOTO         SD           Domingo  Fin de Semana   \n",
       "4  MOTO-PASAJEROS    MOTO  PASAJEROS            Jueves  Día de Semana   \n",
       "\n",
       "            Barrio  \n",
       "0  Villa Riachuelo  \n",
       "1  Sobre Gral. Paz  \n",
       "2     Constitucion  \n",
       "3     Villa Lugano  \n",
       "4     Constitucion  \n",
       "\n",
       "[5 rows x 24 columns]"
      ]
     },
     "execution_count": 3,
     "metadata": {},
     "output_type": "execute_result"
    }
   ],
   "source": [
    "homicidios.head()"
   ]
  },
  {
   "cell_type": "markdown",
   "metadata": {},
   "source": [
    "### Creación de una función\n",
    "\n",
    "Creamos una función para poder obtener a que Barrio pertenece de **CABA** apartir de los datos que tenemos de *Latitud* y *Longitud* en el DataFrame."
   ]
  },
  {
   "cell_type": "code",
   "execution_count": 4,
   "metadata": {},
   "outputs": [],
   "source": [
    "def obtener_barrio(latitud, longitud):\n",
    "    \"\"\"\n",
    "    Obtiene el nombre del barrio correspondiente a las coordenadas geográficas dadas.\n",
    "\n",
    "    Parameters:\n",
    "    -----------\n",
    "        latitud (float): La latitud de la ubicación.\n",
    "        longitud (float): La longitud de la ubicación.\n",
    "\n",
    "    Returns:\n",
    "    --------\n",
    "        str: El nombre del barrio si se encuentra, o \"Desconocido\" si no se encuentra o hay un error.\n",
    "    \"\"\"\n",
    "    url = \"https://datosabiertos-usig-apis.buenosaires.gob.ar/datos_utiles\"\n",
    "    params = {\n",
    "        \"x\": longitud,\n",
    "        \"y\": latitud,\n",
    "        \"formato\": \"json\"\n",
    "    }\n",
    "\n",
    "    try:\n",
    "        response = requests.get(url, params=params)\n",
    "        data = response.json()\n",
    "        if \"barrio\" in data:\n",
    "            return data[\"barrio\"]\n",
    "        else:\n",
    "            return \"Desconocido\"\n",
    "    except requests.exceptions.RequestException as e:\n",
    "        print(\"Error al hacer la solicitud:\", e)\n",
    "        return \"Desconocido\""
   ]
  },
  {
   "cell_type": "markdown",
   "metadata": {},
   "source": [
    "### Aplicación de la función\n",
    "\n",
    "Aplicamos la función creada en una nueva columna del DataFrame ***Homicidios***"
   ]
  },
  {
   "cell_type": "code",
   "execution_count": null,
   "metadata": {},
   "outputs": [],
   "source": [
    "homicidios['Barrio'] = homicidios.apply(lambda row: obtener_barrio(row['POS Y'], row['POS X']), axis=1)"
   ]
  },
  {
   "cell_type": "markdown",
   "metadata": {},
   "source": [
    "Corroboramos"
   ]
  },
  {
   "cell_type": "code",
   "execution_count": null,
   "metadata": {},
   "outputs": [
    {
     "data": {
      "text/html": [
       "<div>\n",
       "<style scoped>\n",
       "    .dataframe tbody tr th:only-of-type {\n",
       "        vertical-align: middle;\n",
       "    }\n",
       "\n",
       "    .dataframe tbody tr th {\n",
       "        vertical-align: top;\n",
       "    }\n",
       "\n",
       "    .dataframe thead th {\n",
       "        text-align: right;\n",
       "    }\n",
       "</style>\n",
       "<table border=\"1\" class=\"dataframe\">\n",
       "  <thead>\n",
       "    <tr style=\"text-align: right;\">\n",
       "      <th></th>\n",
       "      <th>Barrio</th>\n",
       "    </tr>\n",
       "  </thead>\n",
       "  <tbody>\n",
       "    <tr>\n",
       "      <th>0</th>\n",
       "      <td>Villa Riachuelo</td>\n",
       "    </tr>\n",
       "    <tr>\n",
       "      <th>1</th>\n",
       "      <td></td>\n",
       "    </tr>\n",
       "    <tr>\n",
       "      <th>2</th>\n",
       "      <td>Constitucion</td>\n",
       "    </tr>\n",
       "    <tr>\n",
       "      <th>3</th>\n",
       "      <td>Villa Lugano</td>\n",
       "    </tr>\n",
       "    <tr>\n",
       "      <th>4</th>\n",
       "      <td>Constitucion</td>\n",
       "    </tr>\n",
       "    <tr>\n",
       "      <th>...</th>\n",
       "      <td>...</td>\n",
       "    </tr>\n",
       "    <tr>\n",
       "      <th>689</th>\n",
       "      <td>Parque Chacabuco</td>\n",
       "    </tr>\n",
       "    <tr>\n",
       "      <th>690</th>\n",
       "      <td>Parque Avellaneda</td>\n",
       "    </tr>\n",
       "    <tr>\n",
       "      <th>691</th>\n",
       "      <td>Flores</td>\n",
       "    </tr>\n",
       "    <tr>\n",
       "      <th>692</th>\n",
       "      <td>Parque Avellaneda</td>\n",
       "    </tr>\n",
       "    <tr>\n",
       "      <th>693</th>\n",
       "      <td>Retiro</td>\n",
       "    </tr>\n",
       "  </tbody>\n",
       "</table>\n",
       "<p>694 rows × 1 columns</p>\n",
       "</div>"
      ],
      "text/plain": [
       "                Barrio\n",
       "0      Villa Riachuelo\n",
       "1                     \n",
       "2         Constitucion\n",
       "3         Villa Lugano\n",
       "4         Constitucion\n",
       "..                 ...\n",
       "689   Parque Chacabuco\n",
       "690  Parque Avellaneda\n",
       "691             Flores\n",
       "692  Parque Avellaneda\n",
       "693             Retiro\n",
       "\n",
       "[694 rows x 1 columns]"
      ]
     },
     "execution_count": 25,
     "metadata": {},
     "output_type": "execute_result"
    }
   ],
   "source": [
    "homicidios[['Barrio']]"
   ]
  },
  {
   "cell_type": "markdown",
   "metadata": {},
   "source": [
    "### Análisis de los datos\n",
    "\n",
    "Analizamos los datos que obtuvimos de la API, ya que notamos que hay registros sin datos de Barrio."
   ]
  },
  {
   "cell_type": "code",
   "execution_count": null,
   "metadata": {},
   "outputs": [
    {
     "data": {
      "text/html": [
       "<div>\n",
       "<style scoped>\n",
       "    .dataframe tbody tr th:only-of-type {\n",
       "        vertical-align: middle;\n",
       "    }\n",
       "\n",
       "    .dataframe tbody tr th {\n",
       "        vertical-align: top;\n",
       "    }\n",
       "\n",
       "    .dataframe thead th {\n",
       "        text-align: right;\n",
       "    }\n",
       "</style>\n",
       "<table border=\"1\" class=\"dataframe\">\n",
       "  <thead>\n",
       "    <tr style=\"text-align: right;\">\n",
       "      <th></th>\n",
       "      <th>Id Hecho</th>\n",
       "      <th>Nro de víctimas</th>\n",
       "      <th>Fecha</th>\n",
       "      <th>Año</th>\n",
       "      <th>Mes</th>\n",
       "      <th>Día</th>\n",
       "      <th>Hora</th>\n",
       "      <th>Hora entera</th>\n",
       "      <th>Lugar del hecho</th>\n",
       "      <th>Tipo de calle</th>\n",
       "      <th>...</th>\n",
       "      <th>Comuna</th>\n",
       "      <th>XY (CABA)</th>\n",
       "      <th>POS X</th>\n",
       "      <th>POS Y</th>\n",
       "      <th>Participantes</th>\n",
       "      <th>Víctima</th>\n",
       "      <th>Acusado</th>\n",
       "      <th>Día de la Semana</th>\n",
       "      <th>Tipo de Día</th>\n",
       "      <th>Barrio</th>\n",
       "    </tr>\n",
       "  </thead>\n",
       "  <tbody>\n",
       "    <tr>\n",
       "      <th>1</th>\n",
       "      <td>2016-0002</td>\n",
       "      <td>1</td>\n",
       "      <td>2016-01-02</td>\n",
       "      <td>2016</td>\n",
       "      <td>Enero</td>\n",
       "      <td>2</td>\n",
       "      <td>01:15:00</td>\n",
       "      <td>1.0</td>\n",
       "      <td>AV GRAL PAZ  Y AV DE LOS CORRALES</td>\n",
       "      <td>GRAL PAZ</td>\n",
       "      <td>...</td>\n",
       "      <td>9</td>\n",
       "      <td>Point (95832.05571093 95505.41641999)</td>\n",
       "      <td>-58.508775</td>\n",
       "      <td>-34.669777</td>\n",
       "      <td>AUTO-PASAJEROS</td>\n",
       "      <td>AUTO</td>\n",
       "      <td>PASAJEROS</td>\n",
       "      <td>Sábado</td>\n",
       "      <td>Fin de Semana</td>\n",
       "      <td></td>\n",
       "    </tr>\n",
       "    <tr>\n",
       "      <th>7</th>\n",
       "      <td>2016-0010</td>\n",
       "      <td>1</td>\n",
       "      <td>2016-01-29</td>\n",
       "      <td>2016</td>\n",
       "      <td>Enero</td>\n",
       "      <td>29</td>\n",
       "      <td>15:20:00</td>\n",
       "      <td>15.0</td>\n",
       "      <td>AV GENERAL PAZ Y AV DE LOS CORRALES</td>\n",
       "      <td>GRAL PAZ</td>\n",
       "      <td>...</td>\n",
       "      <td>9</td>\n",
       "      <td>Point (95832.05571093 95505.41641999)</td>\n",
       "      <td>-58.508775</td>\n",
       "      <td>-34.669777</td>\n",
       "      <td>MOTO-AUTO</td>\n",
       "      <td>MOTO</td>\n",
       "      <td>AUTO</td>\n",
       "      <td>Viernes</td>\n",
       "      <td>Día de Semana</td>\n",
       "      <td></td>\n",
       "    </tr>\n",
       "    <tr>\n",
       "      <th>17</th>\n",
       "      <td>2016-0025</td>\n",
       "      <td>1</td>\n",
       "      <td>2016-02-28</td>\n",
       "      <td>2016</td>\n",
       "      <td>Febrero</td>\n",
       "      <td>28</td>\n",
       "      <td>04:50:00</td>\n",
       "      <td>4.0</td>\n",
       "      <td>AV GRAL PAZ Y AV 27 DE FEBRERO</td>\n",
       "      <td>GRAL PAZ</td>\n",
       "      <td>...</td>\n",
       "      <td>8</td>\n",
       "      <td>Point (100077.95205948 91571.23307293)</td>\n",
       "      <td>-58.462450</td>\n",
       "      <td>-34.705250</td>\n",
       "      <td>AUTO-AUTO</td>\n",
       "      <td>AUTO</td>\n",
       "      <td>AUTO</td>\n",
       "      <td>Domingo</td>\n",
       "      <td>Fin de Semana</td>\n",
       "      <td></td>\n",
       "    </tr>\n",
       "    <tr>\n",
       "      <th>27</th>\n",
       "      <td>2016-0038</td>\n",
       "      <td>1</td>\n",
       "      <td>2016-03-21</td>\n",
       "      <td>2016</td>\n",
       "      <td>Marzo</td>\n",
       "      <td>21</td>\n",
       "      <td>08:06:00</td>\n",
       "      <td>8.0</td>\n",
       "      <td>AV GRAL PAZ COLECTORA Y ZUVIRIA</td>\n",
       "      <td>GRAL PAZ</td>\n",
       "      <td>...</td>\n",
       "      <td>8</td>\n",
       "      <td>Point (96926.79887463 94490.76318635)</td>\n",
       "      <td>-58.496835</td>\n",
       "      <td>-34.678927</td>\n",
       "      <td>PEATON-PASAJEROS</td>\n",
       "      <td>PEATON</td>\n",
       "      <td>PASAJEROS</td>\n",
       "      <td>Lunes</td>\n",
       "      <td>Día de Semana</td>\n",
       "      <td></td>\n",
       "    </tr>\n",
       "    <tr>\n",
       "      <th>32</th>\n",
       "      <td>2016-0045</td>\n",
       "      <td>1</td>\n",
       "      <td>2016-04-11</td>\n",
       "      <td>2016</td>\n",
       "      <td>Abril</td>\n",
       "      <td>11</td>\n",
       "      <td>10:25:00</td>\n",
       "      <td>10.0</td>\n",
       "      <td>AV GRAL PAZ Y AV DEL LIBERTADOR</td>\n",
       "      <td>GRAL PAZ</td>\n",
       "      <td>...</td>\n",
       "      <td>13</td>\n",
       "      <td>Point (99620.34936816 110483.29286598)</td>\n",
       "      <td>-58.467435</td>\n",
       "      <td>-34.534769</td>\n",
       "      <td>MOTO-SD</td>\n",
       "      <td>MOTO</td>\n",
       "      <td>SD</td>\n",
       "      <td>Lunes</td>\n",
       "      <td>Día de Semana</td>\n",
       "      <td></td>\n",
       "    </tr>\n",
       "    <tr>\n",
       "      <th>40</th>\n",
       "      <td>2016-0054</td>\n",
       "      <td>1</td>\n",
       "      <td>2016-04-23</td>\n",
       "      <td>2016</td>\n",
       "      <td>Abril</td>\n",
       "      <td>23</td>\n",
       "      <td>21:00:00</td>\n",
       "      <td>21.0</td>\n",
       "      <td>AU LUIS DELLEPIANE Y AV GRAL PAZ</td>\n",
       "      <td>AUTOPISTA</td>\n",
       "      <td>...</td>\n",
       "      <td>8</td>\n",
       "      <td>Point (97832.57143731 93489.83736533)</td>\n",
       "      <td>-58.486954</td>\n",
       "      <td>-34.687952</td>\n",
       "      <td>MOTO-MOTO</td>\n",
       "      <td>MOTO</td>\n",
       "      <td>MOTO</td>\n",
       "      <td>Sábado</td>\n",
       "      <td>Fin de Semana</td>\n",
       "      <td></td>\n",
       "    </tr>\n",
       "    <tr>\n",
       "      <th>51</th>\n",
       "      <td>2016-0074</td>\n",
       "      <td>1</td>\n",
       "      <td>2016-06-12</td>\n",
       "      <td>2016</td>\n",
       "      <td>Junio</td>\n",
       "      <td>12</td>\n",
       "      <td>06:40:00</td>\n",
       "      <td>6.0</td>\n",
       "      <td>AV GRAL PAZ Y RODOLFO SCAPINO</td>\n",
       "      <td>GRAL PAZ</td>\n",
       "      <td>...</td>\n",
       "      <td>8</td>\n",
       "      <td>Point (96731.44252651 94668.88351657)</td>\n",
       "      <td>-58.498966</td>\n",
       "      <td>-34.677321</td>\n",
       "      <td>AUTO-AUTO</td>\n",
       "      <td>AUTO</td>\n",
       "      <td>AUTO</td>\n",
       "      <td>Domingo</td>\n",
       "      <td>Fin de Semana</td>\n",
       "      <td></td>\n",
       "    </tr>\n",
       "    <tr>\n",
       "      <th>68</th>\n",
       "      <td>2016-0092</td>\n",
       "      <td>1</td>\n",
       "      <td>2016-07-15</td>\n",
       "      <td>2016</td>\n",
       "      <td>Julio</td>\n",
       "      <td>15</td>\n",
       "      <td>11:00:00</td>\n",
       "      <td>11.0</td>\n",
       "      <td>AV GRAL PAZ Y AV LIBERTADOR</td>\n",
       "      <td>GRAL PAZ</td>\n",
       "      <td>...</td>\n",
       "      <td>13</td>\n",
       "      <td>Point (99620.34936816 110483.29286598)</td>\n",
       "      <td>-58.467435</td>\n",
       "      <td>-34.534769</td>\n",
       "      <td>MOTO-CARGAS</td>\n",
       "      <td>MOTO</td>\n",
       "      <td>CARGAS</td>\n",
       "      <td>Viernes</td>\n",
       "      <td>Día de Semana</td>\n",
       "      <td></td>\n",
       "    </tr>\n",
       "    <tr>\n",
       "      <th>74</th>\n",
       "      <td>2016-0099</td>\n",
       "      <td>1</td>\n",
       "      <td>2016-07-29</td>\n",
       "      <td>2016</td>\n",
       "      <td>Julio</td>\n",
       "      <td>29</td>\n",
       "      <td>16:00:00</td>\n",
       "      <td>16.0</td>\n",
       "      <td>AV GRAL MOSCONI Y AV GRAL PAZ</td>\n",
       "      <td>GRAL PAZ</td>\n",
       "      <td>...</td>\n",
       "      <td>11</td>\n",
       "      <td>Point (94486.28631712 103468.59928582)</td>\n",
       "      <td>-58.523406</td>\n",
       "      <td>-34.597988</td>\n",
       "      <td>CARGAS-CARGAS</td>\n",
       "      <td>CARGAS</td>\n",
       "      <td>CARGAS</td>\n",
       "      <td>Viernes</td>\n",
       "      <td>Día de Semana</td>\n",
       "      <td></td>\n",
       "    </tr>\n",
       "    <tr>\n",
       "      <th>129</th>\n",
       "      <td>2016-0163</td>\n",
       "      <td>1</td>\n",
       "      <td>2016-12-10</td>\n",
       "      <td>2016</td>\n",
       "      <td>Diciembre</td>\n",
       "      <td>10</td>\n",
       "      <td>07:30:00</td>\n",
       "      <td>7.0</td>\n",
       "      <td>AV GRAL PAZ Y AV GENERAL MOSCONI</td>\n",
       "      <td>GRAL PAZ</td>\n",
       "      <td>...</td>\n",
       "      <td>11</td>\n",
       "      <td>Point (94486.28631712 103468.59928582)</td>\n",
       "      <td>-58.523406</td>\n",
       "      <td>-34.597988</td>\n",
       "      <td>MOTO-AUTO</td>\n",
       "      <td>MOTO</td>\n",
       "      <td>AUTO</td>\n",
       "      <td>Sábado</td>\n",
       "      <td>Fin de Semana</td>\n",
       "      <td></td>\n",
       "    </tr>\n",
       "    <tr>\n",
       "      <th>148</th>\n",
       "      <td>2017-0011</td>\n",
       "      <td>1</td>\n",
       "      <td>2017-01-22</td>\n",
       "      <td>2017</td>\n",
       "      <td>Enero</td>\n",
       "      <td>22</td>\n",
       "      <td>02:30:00</td>\n",
       "      <td>2.0</td>\n",
       "      <td>AV. GRAL. PAZ Y AV. R. BALBIN</td>\n",
       "      <td>GRAL PAZ</td>\n",
       "      <td>...</td>\n",
       "      <td>12</td>\n",
       "      <td>Point (96563.66494817 108815.73881056)</td>\n",
       "      <td>-58.500738</td>\n",
       "      <td>-34.549795</td>\n",
       "      <td>MOTO-OBJETO FIJO</td>\n",
       "      <td>MOTO</td>\n",
       "      <td>OBJETO FIJO</td>\n",
       "      <td>Domingo</td>\n",
       "      <td>Fin de Semana</td>\n",
       "      <td></td>\n",
       "    </tr>\n",
       "    <tr>\n",
       "      <th>155</th>\n",
       "      <td>2017-0018</td>\n",
       "      <td>1</td>\n",
       "      <td>2017-02-09</td>\n",
       "      <td>2017</td>\n",
       "      <td>Febrero</td>\n",
       "      <td>9</td>\n",
       "      <td>07:00:00</td>\n",
       "      <td>7.0</td>\n",
       "      <td>AV. GRAL. PAZ Y AV. DE LOS CORRALES</td>\n",
       "      <td>GRAL PAZ</td>\n",
       "      <td>...</td>\n",
       "      <td>9</td>\n",
       "      <td>Point (95832.05571093 95505.41641999)</td>\n",
       "      <td>-58.508775</td>\n",
       "      <td>-34.669777</td>\n",
       "      <td>MOTO-AUTO</td>\n",
       "      <td>MOTO</td>\n",
       "      <td>AUTO</td>\n",
       "      <td>Jueves</td>\n",
       "      <td>Día de Semana</td>\n",
       "      <td></td>\n",
       "    </tr>\n",
       "    <tr>\n",
       "      <th>180</th>\n",
       "      <td>2017-0052</td>\n",
       "      <td>1</td>\n",
       "      <td>2017-05-05</td>\n",
       "      <td>2017</td>\n",
       "      <td>Mayo</td>\n",
       "      <td>5</td>\n",
       "      <td>03:40:00</td>\n",
       "      <td>3.0</td>\n",
       "      <td>AV. GRAL. PAZ Y GOLETA JULIA</td>\n",
       "      <td>GRAL PAZ</td>\n",
       "      <td>...</td>\n",
       "      <td>8</td>\n",
       "      <td>Point (97173.99360188 94265.65054023)</td>\n",
       "      <td>-58.494138</td>\n",
       "      <td>-34.680957</td>\n",
       "      <td>PEATON-CARGAS</td>\n",
       "      <td>PEATON</td>\n",
       "      <td>CARGAS</td>\n",
       "      <td>Viernes</td>\n",
       "      <td>Día de Semana</td>\n",
       "      <td></td>\n",
       "    </tr>\n",
       "    <tr>\n",
       "      <th>195</th>\n",
       "      <td>2017-0069</td>\n",
       "      <td>1</td>\n",
       "      <td>2017-05-24</td>\n",
       "      <td>2017</td>\n",
       "      <td>Mayo</td>\n",
       "      <td>24</td>\n",
       "      <td>14:15:00</td>\n",
       "      <td>14.0</td>\n",
       "      <td>AV. GRAL. PAZ Y ULRICO SCHMIDL</td>\n",
       "      <td>GRAL PAZ</td>\n",
       "      <td>...</td>\n",
       "      <td>9</td>\n",
       "      <td>Point (94644.00300729 96592.22735507)</td>\n",
       "      <td>-58.521731</td>\n",
       "      <td>-34.659975</td>\n",
       "      <td>MOTO-SD</td>\n",
       "      <td>MOTO</td>\n",
       "      <td>SD</td>\n",
       "      <td>Miércoles</td>\n",
       "      <td>Día de Semana</td>\n",
       "      <td></td>\n",
       "    </tr>\n",
       "    <tr>\n",
       "      <th>214</th>\n",
       "      <td>2017-0091</td>\n",
       "      <td>1</td>\n",
       "      <td>2017-07-15</td>\n",
       "      <td>2017</td>\n",
       "      <td>Julio</td>\n",
       "      <td>15</td>\n",
       "      <td>13:00:00</td>\n",
       "      <td>13.0</td>\n",
       "      <td>SUPERI Y AV. GRAL. PAZ</td>\n",
       "      <td>GRAL PAZ</td>\n",
       "      <td>...</td>\n",
       "      <td>12</td>\n",
       "      <td>Point (97850.57417090 109546.39428377)</td>\n",
       "      <td>-58.486715</td>\n",
       "      <td>-34.543212</td>\n",
       "      <td>MOTO-SD</td>\n",
       "      <td>MOTO</td>\n",
       "      <td>SD</td>\n",
       "      <td>Sábado</td>\n",
       "      <td>Fin de Semana</td>\n",
       "      <td></td>\n",
       "    </tr>\n",
       "    <tr>\n",
       "      <th>351</th>\n",
       "      <td>2018-0079</td>\n",
       "      <td>1</td>\n",
       "      <td>2018-07-23</td>\n",
       "      <td>2018</td>\n",
       "      <td>Julio</td>\n",
       "      <td>23</td>\n",
       "      <td>07:15:00</td>\n",
       "      <td>7.0</td>\n",
       "      <td>De Los Corrales Av. y Paz, Gral. Av.</td>\n",
       "      <td>GRAL PAZ</td>\n",
       "      <td>...</td>\n",
       "      <td>9</td>\n",
       "      <td>Point (95832.05571093 95505.41641999)</td>\n",
       "      <td>-58.508775</td>\n",
       "      <td>-34.669777</td>\n",
       "      <td>PEATON-CARGAS</td>\n",
       "      <td>PEATON</td>\n",
       "      <td>CARGAS</td>\n",
       "      <td>Lunes</td>\n",
       "      <td>Día de Semana</td>\n",
       "      <td></td>\n",
       "    </tr>\n",
       "    <tr>\n",
       "      <th>360</th>\n",
       "      <td>2018-0088</td>\n",
       "      <td>1</td>\n",
       "      <td>2018-08-17</td>\n",
       "      <td>2018</td>\n",
       "      <td>Agosto</td>\n",
       "      <td>17</td>\n",
       "      <td>16:36:00</td>\n",
       "      <td>16.0</td>\n",
       "      <td>Av. Gral. Paz y Av. Dr. Ricardo Balbín</td>\n",
       "      <td>GRAL PAZ</td>\n",
       "      <td>...</td>\n",
       "      <td>12</td>\n",
       "      <td>Point (96563.66494817 108815.73881056)</td>\n",
       "      <td>-58.500738</td>\n",
       "      <td>-34.549795</td>\n",
       "      <td>MOTO-CARGAS</td>\n",
       "      <td>MOTO</td>\n",
       "      <td>CARGAS</td>\n",
       "      <td>Viernes</td>\n",
       "      <td>Día de Semana</td>\n",
       "      <td></td>\n",
       "    </tr>\n",
       "    <tr>\n",
       "      <th>373</th>\n",
       "      <td>2018-0101</td>\n",
       "      <td>1</td>\n",
       "      <td>2018-09-21</td>\n",
       "      <td>2018</td>\n",
       "      <td>Septiembre</td>\n",
       "      <td>21</td>\n",
       "      <td>00:15:00</td>\n",
       "      <td>0.0</td>\n",
       "      <td>Paz, Gral. Av. y Zapiola</td>\n",
       "      <td>GRAL PAZ</td>\n",
       "      <td>...</td>\n",
       "      <td>12</td>\n",
       "      <td>Point (98376.44189669 109821.71138325)</td>\n",
       "      <td>-58.480986</td>\n",
       "      <td>-34.540731</td>\n",
       "      <td>MULTIPLE</td>\n",
       "      <td>AUTO</td>\n",
       "      <td>MULTIPLE</td>\n",
       "      <td>Viernes</td>\n",
       "      <td>Día de Semana</td>\n",
       "      <td></td>\n",
       "    </tr>\n",
       "    <tr>\n",
       "      <th>399</th>\n",
       "      <td>2018-0127</td>\n",
       "      <td>1</td>\n",
       "      <td>2018-11-19</td>\n",
       "      <td>2018</td>\n",
       "      <td>Noviembre</td>\n",
       "      <td>19</td>\n",
       "      <td>09:14:00</td>\n",
       "      <td>9.0</td>\n",
       "      <td>Av. Gral. Paz y Av. de los Constituyentes</td>\n",
       "      <td>GRAL PAZ</td>\n",
       "      <td>...</td>\n",
       "      <td>12</td>\n",
       "      <td>Point (95720.94836751 106663.03756022)</td>\n",
       "      <td>-58.509930</td>\n",
       "      <td>-34.569197</td>\n",
       "      <td>MOTO-MOTO</td>\n",
       "      <td>MOTO</td>\n",
       "      <td>MOTO</td>\n",
       "      <td>Lunes</td>\n",
       "      <td>Día de Semana</td>\n",
       "      <td></td>\n",
       "    </tr>\n",
       "    <tr>\n",
       "      <th>426</th>\n",
       "      <td>2019-0011</td>\n",
       "      <td>1</td>\n",
       "      <td>2019-02-10</td>\n",
       "      <td>2019</td>\n",
       "      <td>Febrero</td>\n",
       "      <td>10</td>\n",
       "      <td>01:00:00</td>\n",
       "      <td>1.0</td>\n",
       "      <td>PAZ, GRAL. AV. Y ALBERDI, JUAN BAUTISTA AV.</td>\n",
       "      <td>GRAL PAZ</td>\n",
       "      <td>...</td>\n",
       "      <td>9</td>\n",
       "      <td>Point (94949.53051500 96309.49139706)</td>\n",
       "      <td>-58.518399</td>\n",
       "      <td>-34.662525</td>\n",
       "      <td>PEATON-AUTO</td>\n",
       "      <td>PEATON</td>\n",
       "      <td>AUTO</td>\n",
       "      <td>Domingo</td>\n",
       "      <td>Fin de Semana</td>\n",
       "      <td></td>\n",
       "    </tr>\n",
       "    <tr>\n",
       "      <th>461</th>\n",
       "      <td>2019-0046</td>\n",
       "      <td>1</td>\n",
       "      <td>2019-06-04</td>\n",
       "      <td>2019</td>\n",
       "      <td>Junio</td>\n",
       "      <td>4</td>\n",
       "      <td>09:00:00</td>\n",
       "      <td>9.0</td>\n",
       "      <td>GRAL PAZ Y CABILDO</td>\n",
       "      <td>GRAL PAZ</td>\n",
       "      <td>...</td>\n",
       "      <td>13</td>\n",
       "      <td>Point (98817.74986778 110096.31367495)</td>\n",
       "      <td>-58.476178</td>\n",
       "      <td>-34.538257</td>\n",
       "      <td>MOTO-AUTO</td>\n",
       "      <td>MOTO</td>\n",
       "      <td>AUTO</td>\n",
       "      <td>Martes</td>\n",
       "      <td>Día de Semana</td>\n",
       "      <td></td>\n",
       "    </tr>\n",
       "    <tr>\n",
       "      <th>494</th>\n",
       "      <td>2019-0080</td>\n",
       "      <td>1</td>\n",
       "      <td>2019-09-17</td>\n",
       "      <td>2019</td>\n",
       "      <td>Septiembre</td>\n",
       "      <td>17</td>\n",
       "      <td>18:40:00</td>\n",
       "      <td>18.0</td>\n",
       "      <td>CABILDO AV. y PAZ, GRAL. AV.</td>\n",
       "      <td>GRAL PAZ</td>\n",
       "      <td>...</td>\n",
       "      <td>13</td>\n",
       "      <td>Point (98817.74986778 110096.31367495)</td>\n",
       "      <td>-58.476178</td>\n",
       "      <td>-34.538257</td>\n",
       "      <td>PEATON-MOTO</td>\n",
       "      <td>PEATON</td>\n",
       "      <td>MOTO</td>\n",
       "      <td>Martes</td>\n",
       "      <td>Día de Semana</td>\n",
       "      <td></td>\n",
       "    </tr>\n",
       "    <tr>\n",
       "      <th>551</th>\n",
       "      <td>2020-0033</td>\n",
       "      <td>1</td>\n",
       "      <td>2020-07-19</td>\n",
       "      <td>2020</td>\n",
       "      <td>Julio</td>\n",
       "      <td>19</td>\n",
       "      <td>06:25:00</td>\n",
       "      <td>6.0</td>\n",
       "      <td>PAZ, GRAL. AV. Y DEL LIBERTADOR AV.</td>\n",
       "      <td>GRAL PAZ</td>\n",
       "      <td>...</td>\n",
       "      <td>13</td>\n",
       "      <td>Point (99620.34936816 110483.29286598)</td>\n",
       "      <td>-58.467435</td>\n",
       "      <td>-34.534769</td>\n",
       "      <td>AUTO-OBJETO FIJO</td>\n",
       "      <td>AUTO</td>\n",
       "      <td>OBJETO FIJO</td>\n",
       "      <td>Domingo</td>\n",
       "      <td>Fin de Semana</td>\n",
       "      <td></td>\n",
       "    </tr>\n",
       "    <tr>\n",
       "      <th>563</th>\n",
       "      <td>2020-0045</td>\n",
       "      <td>1</td>\n",
       "      <td>2020-10-19</td>\n",
       "      <td>2020</td>\n",
       "      <td>Octubre</td>\n",
       "      <td>19</td>\n",
       "      <td>03:00:00</td>\n",
       "      <td>3.0</td>\n",
       "      <td>PAZ, GRAL. AV. Y 27 DE FEBRERO AV.</td>\n",
       "      <td>GRAL PAZ</td>\n",
       "      <td>...</td>\n",
       "      <td>8</td>\n",
       "      <td>Point (100077.95205948 91571.23307293)</td>\n",
       "      <td>-58.462450</td>\n",
       "      <td>-34.705250</td>\n",
       "      <td>AUTO-CARGAS</td>\n",
       "      <td>AUTO</td>\n",
       "      <td>CARGAS</td>\n",
       "      <td>Lunes</td>\n",
       "      <td>Día de Semana</td>\n",
       "      <td></td>\n",
       "    </tr>\n",
       "    <tr>\n",
       "      <th>606</th>\n",
       "      <td>2021-0010</td>\n",
       "      <td>1</td>\n",
       "      <td>2021-01-23</td>\n",
       "      <td>2021</td>\n",
       "      <td>Enero</td>\n",
       "      <td>23</td>\n",
       "      <td>08:00:00</td>\n",
       "      <td>8.0</td>\n",
       "      <td>PAZ, GRAL. AV. Y BALBIN, RICARDO, DR. AV.</td>\n",
       "      <td>GRAL PAZ</td>\n",
       "      <td>...</td>\n",
       "      <td>12</td>\n",
       "      <td>Point (96563.66494817 108815.73881056)</td>\n",
       "      <td>-58.500738</td>\n",
       "      <td>-34.549795</td>\n",
       "      <td>MOTO-AUTO</td>\n",
       "      <td>MOTO</td>\n",
       "      <td>AUTO</td>\n",
       "      <td>Sábado</td>\n",
       "      <td>Fin de Semana</td>\n",
       "      <td></td>\n",
       "    </tr>\n",
       "    <tr>\n",
       "      <th>621</th>\n",
       "      <td>2021-0025</td>\n",
       "      <td>1</td>\n",
       "      <td>2021-03-11</td>\n",
       "      <td>2021</td>\n",
       "      <td>Marzo</td>\n",
       "      <td>11</td>\n",
       "      <td>03:45:00</td>\n",
       "      <td>3.0</td>\n",
       "      <td>PAZ, GRAL. AV. y DELLEPIANE, LUIS, TTE. GRAL</td>\n",
       "      <td>GRAL PAZ</td>\n",
       "      <td>...</td>\n",
       "      <td>8</td>\n",
       "      <td>Point (97832.57143731 93489.83736533)</td>\n",
       "      <td>-58.486954</td>\n",
       "      <td>-34.687952</td>\n",
       "      <td>MOTO-OTRO</td>\n",
       "      <td>MOTO</td>\n",
       "      <td>OTRO</td>\n",
       "      <td>Jueves</td>\n",
       "      <td>Día de Semana</td>\n",
       "      <td></td>\n",
       "    </tr>\n",
       "    <tr>\n",
       "      <th>632</th>\n",
       "      <td>2021-0036</td>\n",
       "      <td>1</td>\n",
       "      <td>2021-05-09</td>\n",
       "      <td>2021</td>\n",
       "      <td>Mayo</td>\n",
       "      <td>9</td>\n",
       "      <td>06:00:00</td>\n",
       "      <td>6.0</td>\n",
       "      <td>PAZ, GRAL. AV. Y MOSCONI GENERAL AV.</td>\n",
       "      <td>GRAL PAZ</td>\n",
       "      <td>...</td>\n",
       "      <td>11</td>\n",
       "      <td>Point (94486.28631712 103468.59928582)</td>\n",
       "      <td>-58.523406</td>\n",
       "      <td>-34.597988</td>\n",
       "      <td>MOTO-OBJETO FIJO</td>\n",
       "      <td>MOTO</td>\n",
       "      <td>OBJETO FIJO</td>\n",
       "      <td>Domingo</td>\n",
       "      <td>Fin de Semana</td>\n",
       "      <td></td>\n",
       "    </tr>\n",
       "    <tr>\n",
       "      <th>636</th>\n",
       "      <td>2021-0040</td>\n",
       "      <td>1</td>\n",
       "      <td>2021-05-20</td>\n",
       "      <td>2021</td>\n",
       "      <td>Mayo</td>\n",
       "      <td>20</td>\n",
       "      <td>05:50:00</td>\n",
       "      <td>5.0</td>\n",
       "      <td>PAZ, GRAL. AV. Y DEL LIBERTADOR AV.</td>\n",
       "      <td>GRAL PAZ</td>\n",
       "      <td>...</td>\n",
       "      <td>13</td>\n",
       "      <td>Point (99620.34936816 110483.29286598)</td>\n",
       "      <td>-58.467435</td>\n",
       "      <td>-34.534769</td>\n",
       "      <td>MOTO-AUTO</td>\n",
       "      <td>MOTO</td>\n",
       "      <td>AUTO</td>\n",
       "      <td>Jueves</td>\n",
       "      <td>Día de Semana</td>\n",
       "      <td></td>\n",
       "    </tr>\n",
       "    <tr>\n",
       "      <th>648</th>\n",
       "      <td>2021-0052</td>\n",
       "      <td>1</td>\n",
       "      <td>2021-06-20</td>\n",
       "      <td>2021</td>\n",
       "      <td>Junio</td>\n",
       "      <td>20</td>\n",
       "      <td>05:40:00</td>\n",
       "      <td>5.0</td>\n",
       "      <td>PAZ, GRAL. AV. 14723</td>\n",
       "      <td>GRAL PAZ</td>\n",
       "      <td>...</td>\n",
       "      <td>8</td>\n",
       "      <td>Point (97067.24775528 94359.84584291)</td>\n",
       "      <td>-58.495302</td>\n",
       "      <td>-34.680108</td>\n",
       "      <td>MOTO-OBJETO FIJO</td>\n",
       "      <td>MOTO</td>\n",
       "      <td>OBJETO FIJO</td>\n",
       "      <td>Domingo</td>\n",
       "      <td>Fin de Semana</td>\n",
       "      <td></td>\n",
       "    </tr>\n",
       "    <tr>\n",
       "      <th>660</th>\n",
       "      <td>2021-0064</td>\n",
       "      <td>1</td>\n",
       "      <td>2021-08-02</td>\n",
       "      <td>2021</td>\n",
       "      <td>Agosto</td>\n",
       "      <td>2</td>\n",
       "      <td>20:00:00</td>\n",
       "      <td>20.0</td>\n",
       "      <td>PAZ, GRAL. AV. Y TONELERO</td>\n",
       "      <td>GRAL PAZ</td>\n",
       "      <td>...</td>\n",
       "      <td>9</td>\n",
       "      <td>Point (93948.70282497 97229.16264548)</td>\n",
       "      <td>-58.529311</td>\n",
       "      <td>-34.654229</td>\n",
       "      <td>PEATON-CARGAS</td>\n",
       "      <td>PEATON</td>\n",
       "      <td>CARGAS</td>\n",
       "      <td>Lunes</td>\n",
       "      <td>Día de Semana</td>\n",
       "      <td></td>\n",
       "    </tr>\n",
       "    <tr>\n",
       "      <th>670</th>\n",
       "      <td>2021-0074</td>\n",
       "      <td>1</td>\n",
       "      <td>2021-09-20</td>\n",
       "      <td>2021</td>\n",
       "      <td>Septiembre</td>\n",
       "      <td>20</td>\n",
       "      <td>15:00:00</td>\n",
       "      <td>15.0</td>\n",
       "      <td>PAZ, GRAL. AV. Y BALBIN, RICARDO, DR. AV.</td>\n",
       "      <td>GRAL PAZ</td>\n",
       "      <td>...</td>\n",
       "      <td>12</td>\n",
       "      <td>Point (96563.66494817 108815.73881056)</td>\n",
       "      <td>-58.500738</td>\n",
       "      <td>-34.549795</td>\n",
       "      <td>MULTIPLE</td>\n",
       "      <td>MOTO</td>\n",
       "      <td>MULTIPLE</td>\n",
       "      <td>Lunes</td>\n",
       "      <td>Día de Semana</td>\n",
       "      <td></td>\n",
       "    </tr>\n",
       "  </tbody>\n",
       "</table>\n",
       "<p>31 rows × 23 columns</p>\n",
       "</div>"
      ],
      "text/plain": [
       "      Id Hecho  Nro de víctimas       Fecha   Año         Mes  Día      Hora  \\\n",
       "1    2016-0002                1  2016-01-02  2016       Enero    2  01:15:00   \n",
       "7    2016-0010                1  2016-01-29  2016       Enero   29  15:20:00   \n",
       "17   2016-0025                1  2016-02-28  2016     Febrero   28  04:50:00   \n",
       "27   2016-0038                1  2016-03-21  2016       Marzo   21  08:06:00   \n",
       "32   2016-0045                1  2016-04-11  2016       Abril   11  10:25:00   \n",
       "40   2016-0054                1  2016-04-23  2016       Abril   23  21:00:00   \n",
       "51   2016-0074                1  2016-06-12  2016       Junio   12  06:40:00   \n",
       "68   2016-0092                1  2016-07-15  2016       Julio   15  11:00:00   \n",
       "74   2016-0099                1  2016-07-29  2016       Julio   29  16:00:00   \n",
       "129  2016-0163                1  2016-12-10  2016   Diciembre   10  07:30:00   \n",
       "148  2017-0011                1  2017-01-22  2017       Enero   22  02:30:00   \n",
       "155  2017-0018                1  2017-02-09  2017     Febrero    9  07:00:00   \n",
       "180  2017-0052                1  2017-05-05  2017        Mayo    5  03:40:00   \n",
       "195  2017-0069                1  2017-05-24  2017        Mayo   24  14:15:00   \n",
       "214  2017-0091                1  2017-07-15  2017       Julio   15  13:00:00   \n",
       "351  2018-0079                1  2018-07-23  2018       Julio   23  07:15:00   \n",
       "360  2018-0088                1  2018-08-17  2018      Agosto   17  16:36:00   \n",
       "373  2018-0101                1  2018-09-21  2018  Septiembre   21  00:15:00   \n",
       "399  2018-0127                1  2018-11-19  2018   Noviembre   19  09:14:00   \n",
       "426  2019-0011                1  2019-02-10  2019     Febrero   10  01:00:00   \n",
       "461  2019-0046                1  2019-06-04  2019       Junio    4  09:00:00   \n",
       "494  2019-0080                1  2019-09-17  2019  Septiembre   17  18:40:00   \n",
       "551  2020-0033                1  2020-07-19  2020       Julio   19  06:25:00   \n",
       "563  2020-0045                1  2020-10-19  2020     Octubre   19  03:00:00   \n",
       "606  2021-0010                1  2021-01-23  2021       Enero   23  08:00:00   \n",
       "621  2021-0025                1  2021-03-11  2021       Marzo   11  03:45:00   \n",
       "632  2021-0036                1  2021-05-09  2021        Mayo    9  06:00:00   \n",
       "636  2021-0040                1  2021-05-20  2021        Mayo   20  05:50:00   \n",
       "648  2021-0052                1  2021-06-20  2021       Junio   20  05:40:00   \n",
       "660  2021-0064                1  2021-08-02  2021      Agosto    2  20:00:00   \n",
       "670  2021-0074                1  2021-09-20  2021  Septiembre   20  15:00:00   \n",
       "\n",
       "     Hora entera                               Lugar del hecho Tipo de calle  \\\n",
       "1            1.0             AV GRAL PAZ  Y AV DE LOS CORRALES      GRAL PAZ   \n",
       "7           15.0           AV GENERAL PAZ Y AV DE LOS CORRALES      GRAL PAZ   \n",
       "17           4.0                AV GRAL PAZ Y AV 27 DE FEBRERO      GRAL PAZ   \n",
       "27           8.0               AV GRAL PAZ COLECTORA Y ZUVIRIA      GRAL PAZ   \n",
       "32          10.0               AV GRAL PAZ Y AV DEL LIBERTADOR      GRAL PAZ   \n",
       "40          21.0              AU LUIS DELLEPIANE Y AV GRAL PAZ     AUTOPISTA   \n",
       "51           6.0                 AV GRAL PAZ Y RODOLFO SCAPINO      GRAL PAZ   \n",
       "68          11.0                  AV GRAL PAZ Y AV LIBERTADOR       GRAL PAZ   \n",
       "74          16.0                 AV GRAL MOSCONI Y AV GRAL PAZ      GRAL PAZ   \n",
       "129          7.0              AV GRAL PAZ Y AV GENERAL MOSCONI      GRAL PAZ   \n",
       "148          2.0                 AV. GRAL. PAZ Y AV. R. BALBIN      GRAL PAZ   \n",
       "155          7.0           AV. GRAL. PAZ Y AV. DE LOS CORRALES      GRAL PAZ   \n",
       "180          3.0                  AV. GRAL. PAZ Y GOLETA JULIA      GRAL PAZ   \n",
       "195         14.0                AV. GRAL. PAZ Y ULRICO SCHMIDL      GRAL PAZ   \n",
       "214         13.0                        SUPERI Y AV. GRAL. PAZ      GRAL PAZ   \n",
       "351          7.0          De Los Corrales Av. y Paz, Gral. Av.      GRAL PAZ   \n",
       "360         16.0        Av. Gral. Paz y Av. Dr. Ricardo Balbín      GRAL PAZ   \n",
       "373          0.0                      Paz, Gral. Av. y Zapiola      GRAL PAZ   \n",
       "399          9.0     Av. Gral. Paz y Av. de los Constituyentes      GRAL PAZ   \n",
       "426          1.0   PAZ, GRAL. AV. Y ALBERDI, JUAN BAUTISTA AV.      GRAL PAZ   \n",
       "461          9.0                            GRAL PAZ Y CABILDO      GRAL PAZ   \n",
       "494         18.0                  CABILDO AV. y PAZ, GRAL. AV.      GRAL PAZ   \n",
       "551          6.0           PAZ, GRAL. AV. Y DEL LIBERTADOR AV.      GRAL PAZ   \n",
       "563          3.0            PAZ, GRAL. AV. Y 27 DE FEBRERO AV.      GRAL PAZ   \n",
       "606          8.0    PAZ, GRAL. AV. Y BALBIN, RICARDO, DR. AV.       GRAL PAZ   \n",
       "621          3.0  PAZ, GRAL. AV. y DELLEPIANE, LUIS, TTE. GRAL      GRAL PAZ   \n",
       "632          6.0          PAZ, GRAL. AV. Y MOSCONI GENERAL AV.      GRAL PAZ   \n",
       "636          5.0           PAZ, GRAL. AV. Y DEL LIBERTADOR AV.      GRAL PAZ   \n",
       "648          5.0                          PAZ, GRAL. AV. 14723      GRAL PAZ   \n",
       "660         20.0                     PAZ, GRAL. AV. Y TONELERO      GRAL PAZ   \n",
       "670         15.0     PAZ, GRAL. AV. Y BALBIN, RICARDO, DR. AV.      GRAL PAZ   \n",
       "\n",
       "     ... Comuna                               XY (CABA)      POS X      POS Y  \\\n",
       "1    ...      9   Point (95832.05571093 95505.41641999) -58.508775 -34.669777   \n",
       "7    ...      9   Point (95832.05571093 95505.41641999) -58.508775 -34.669777   \n",
       "17   ...      8  Point (100077.95205948 91571.23307293) -58.462450 -34.705250   \n",
       "27   ...      8   Point (96926.79887463 94490.76318635) -58.496835 -34.678927   \n",
       "32   ...     13  Point (99620.34936816 110483.29286598) -58.467435 -34.534769   \n",
       "40   ...      8   Point (97832.57143731 93489.83736533) -58.486954 -34.687952   \n",
       "51   ...      8   Point (96731.44252651 94668.88351657) -58.498966 -34.677321   \n",
       "68   ...     13  Point (99620.34936816 110483.29286598) -58.467435 -34.534769   \n",
       "74   ...     11  Point (94486.28631712 103468.59928582) -58.523406 -34.597988   \n",
       "129  ...     11  Point (94486.28631712 103468.59928582) -58.523406 -34.597988   \n",
       "148  ...     12  Point (96563.66494817 108815.73881056) -58.500738 -34.549795   \n",
       "155  ...      9   Point (95832.05571093 95505.41641999) -58.508775 -34.669777   \n",
       "180  ...      8   Point (97173.99360188 94265.65054023) -58.494138 -34.680957   \n",
       "195  ...      9   Point (94644.00300729 96592.22735507) -58.521731 -34.659975   \n",
       "214  ...     12  Point (97850.57417090 109546.39428377) -58.486715 -34.543212   \n",
       "351  ...      9   Point (95832.05571093 95505.41641999) -58.508775 -34.669777   \n",
       "360  ...     12  Point (96563.66494817 108815.73881056) -58.500738 -34.549795   \n",
       "373  ...     12  Point (98376.44189669 109821.71138325) -58.480986 -34.540731   \n",
       "399  ...     12  Point (95720.94836751 106663.03756022) -58.509930 -34.569197   \n",
       "426  ...      9   Point (94949.53051500 96309.49139706) -58.518399 -34.662525   \n",
       "461  ...     13  Point (98817.74986778 110096.31367495) -58.476178 -34.538257   \n",
       "494  ...     13  Point (98817.74986778 110096.31367495) -58.476178 -34.538257   \n",
       "551  ...     13  Point (99620.34936816 110483.29286598) -58.467435 -34.534769   \n",
       "563  ...      8  Point (100077.95205948 91571.23307293) -58.462450 -34.705250   \n",
       "606  ...     12  Point (96563.66494817 108815.73881056) -58.500738 -34.549795   \n",
       "621  ...      8   Point (97832.57143731 93489.83736533) -58.486954 -34.687952   \n",
       "632  ...     11  Point (94486.28631712 103468.59928582) -58.523406 -34.597988   \n",
       "636  ...     13  Point (99620.34936816 110483.29286598) -58.467435 -34.534769   \n",
       "648  ...      8   Point (97067.24775528 94359.84584291) -58.495302 -34.680108   \n",
       "660  ...      9   Point (93948.70282497 97229.16264548) -58.529311 -34.654229   \n",
       "670  ...     12  Point (96563.66494817 108815.73881056) -58.500738 -34.549795   \n",
       "\n",
       "        Participantes  Víctima      Acusado Día de la Semana    Tipo de Día  \\\n",
       "1      AUTO-PASAJEROS     AUTO    PASAJEROS           Sábado  Fin de Semana   \n",
       "7           MOTO-AUTO     MOTO         AUTO          Viernes  Día de Semana   \n",
       "17          AUTO-AUTO     AUTO         AUTO          Domingo  Fin de Semana   \n",
       "27   PEATON-PASAJEROS   PEATON    PASAJEROS            Lunes  Día de Semana   \n",
       "32            MOTO-SD     MOTO           SD            Lunes  Día de Semana   \n",
       "40          MOTO-MOTO     MOTO         MOTO           Sábado  Fin de Semana   \n",
       "51          AUTO-AUTO     AUTO         AUTO          Domingo  Fin de Semana   \n",
       "68        MOTO-CARGAS     MOTO       CARGAS          Viernes  Día de Semana   \n",
       "74      CARGAS-CARGAS   CARGAS       CARGAS          Viernes  Día de Semana   \n",
       "129         MOTO-AUTO     MOTO         AUTO           Sábado  Fin de Semana   \n",
       "148  MOTO-OBJETO FIJO     MOTO  OBJETO FIJO          Domingo  Fin de Semana   \n",
       "155         MOTO-AUTO     MOTO         AUTO           Jueves  Día de Semana   \n",
       "180     PEATON-CARGAS   PEATON       CARGAS          Viernes  Día de Semana   \n",
       "195           MOTO-SD     MOTO           SD        Miércoles  Día de Semana   \n",
       "214           MOTO-SD     MOTO           SD           Sábado  Fin de Semana   \n",
       "351     PEATON-CARGAS   PEATON       CARGAS            Lunes  Día de Semana   \n",
       "360       MOTO-CARGAS     MOTO       CARGAS          Viernes  Día de Semana   \n",
       "373          MULTIPLE     AUTO     MULTIPLE          Viernes  Día de Semana   \n",
       "399         MOTO-MOTO     MOTO         MOTO            Lunes  Día de Semana   \n",
       "426       PEATON-AUTO   PEATON         AUTO          Domingo  Fin de Semana   \n",
       "461         MOTO-AUTO     MOTO         AUTO           Martes  Día de Semana   \n",
       "494       PEATON-MOTO   PEATON         MOTO           Martes  Día de Semana   \n",
       "551  AUTO-OBJETO FIJO     AUTO  OBJETO FIJO          Domingo  Fin de Semana   \n",
       "563       AUTO-CARGAS     AUTO       CARGAS            Lunes  Día de Semana   \n",
       "606         MOTO-AUTO     MOTO         AUTO           Sábado  Fin de Semana   \n",
       "621         MOTO-OTRO     MOTO         OTRO           Jueves  Día de Semana   \n",
       "632  MOTO-OBJETO FIJO     MOTO  OBJETO FIJO          Domingo  Fin de Semana   \n",
       "636         MOTO-AUTO     MOTO         AUTO           Jueves  Día de Semana   \n",
       "648  MOTO-OBJETO FIJO     MOTO  OBJETO FIJO          Domingo  Fin de Semana   \n",
       "660     PEATON-CARGAS   PEATON       CARGAS            Lunes  Día de Semana   \n",
       "670          MULTIPLE     MOTO     MULTIPLE            Lunes  Día de Semana   \n",
       "\n",
       "    Barrio  \n",
       "1           \n",
       "7           \n",
       "17          \n",
       "27          \n",
       "32          \n",
       "40          \n",
       "51          \n",
       "68          \n",
       "74          \n",
       "129         \n",
       "148         \n",
       "155         \n",
       "180         \n",
       "195         \n",
       "214         \n",
       "351         \n",
       "360         \n",
       "373         \n",
       "399         \n",
       "426         \n",
       "461         \n",
       "494         \n",
       "551         \n",
       "563         \n",
       "606         \n",
       "621         \n",
       "632         \n",
       "636         \n",
       "648         \n",
       "660         \n",
       "670         \n",
       "\n",
       "[31 rows x 23 columns]"
      ]
     },
     "execution_count": 26,
     "metadata": {},
     "output_type": "execute_result"
    }
   ],
   "source": [
    "homicidios[homicidios.Barrio == '']"
   ]
  },
  {
   "cell_type": "markdown",
   "metadata": {},
   "source": [
    "Observamos que hay muchos registros sin datos de Barrio, veamos cuantos."
   ]
  },
  {
   "cell_type": "code",
   "execution_count": null,
   "metadata": {},
   "outputs": [
    {
     "data": {
      "text/plain": [
       "31"
      ]
     },
     "execution_count": 34,
     "metadata": {},
     "output_type": "execute_result"
    }
   ],
   "source": [
    "homicidios[homicidios.Barrio == ''].shape[0]"
   ]
  },
  {
   "cell_type": "markdown",
   "metadata": {},
   "source": [
    "Hay 31 registro sin datos de Barrio, y notamos que el *Tipo de calle* de esos registros son **GRAL PAZ**. <br>\n",
    "Veamos estos registros en un mapa"
   ]
  },
  {
   "cell_type": "code",
   "execution_count": 18,
   "metadata": {},
   "outputs": [],
   "source": [
    "homicidios_sin_barrio = homicidios[homicidios['Barrio'] == '']"
   ]
  },
  {
   "cell_type": "code",
   "execution_count": 30,
   "metadata": {},
   "outputs": [
    {
     "data": {
      "application/vnd.plotly.v1+json": {
       "config": {
        "plotlyServerURL": "https://plot.ly"
       },
       "data": [
        {
         "hovertemplate": "POS Y=%{lat}<br>POS X=%{lon}<extra></extra>",
         "lat": [
          -34.66977709,
          -34.66977709,
          -34.70524971,
          -34.67892743,
          -34.53476874,
          -34.68795245,
          -34.67732118,
          -34.53476874,
          -34.59798754,
          -34.59798754,
          -34.5497951,
          -34.66977709,
          -34.68095739,
          -34.65997463,
          -34.54321216,
          -34.66977709,
          -34.5497951,
          -34.5407313,
          -34.56919739,
          -34.66252488,
          -34.53825652,
          -34.53825652,
          -34.53476874,
          -34.70524971,
          -34.5497951,
          -34.68795245,
          -34.59798754,
          -34.53476874,
          -34.68010798,
          -34.65422917,
          -34.5497951
         ],
         "legendgroup": "",
         "lon": [
          -58.50877521,
          -58.50877521,
          -58.46244952,
          -58.49683458,
          -58.46743471,
          -58.48695354,
          -58.49896559,
          -58.46743471,
          -58.52340614,
          -58.52340614,
          -58.5007381,
          -58.50877521,
          -58.49413799,
          -58.52173071,
          -58.48671535,
          -58.50877521,
          -58.5007381,
          -58.48098594,
          -58.50993046,
          -58.5183993,
          -58.47617802,
          -58.47617802,
          -58.46743471,
          -58.46244952,
          -58.5007381,
          -58.48695354,
          -58.52340614,
          -58.46743471,
          -58.49530249,
          -58.52931141,
          -58.5007381
         ],
         "marker": {
          "color": "#113946",
          "size": 7
         },
         "mode": "markers",
         "name": "",
         "showlegend": false,
         "subplot": "mapbox",
         "type": "scattermapbox"
        }
       ],
       "layout": {
        "height": 680,
        "legend": {
         "tracegroupgap": 0
        },
        "mapbox": {
         "center": {
          "lat": -34.61359442612903,
          "lon": -58.49553182193549
         },
         "domain": {
          "x": [
           0,
           1
          ],
          "y": [
           0,
           1
          ]
         },
         "style": "open-street-map",
         "zoom": 10.8
        },
        "margin": {
         "t": 60
        },
        "template": {
         "data": {
          "bar": [
           {
            "error_x": {
             "color": "#2a3f5f"
            },
            "error_y": {
             "color": "#2a3f5f"
            },
            "marker": {
             "line": {
              "color": "#E5ECF6",
              "width": 0.5
             },
             "pattern": {
              "fillmode": "overlay",
              "size": 10,
              "solidity": 0.2
             }
            },
            "type": "bar"
           }
          ],
          "barpolar": [
           {
            "marker": {
             "line": {
              "color": "#E5ECF6",
              "width": 0.5
             },
             "pattern": {
              "fillmode": "overlay",
              "size": 10,
              "solidity": 0.2
             }
            },
            "type": "barpolar"
           }
          ],
          "carpet": [
           {
            "aaxis": {
             "endlinecolor": "#2a3f5f",
             "gridcolor": "white",
             "linecolor": "white",
             "minorgridcolor": "white",
             "startlinecolor": "#2a3f5f"
            },
            "baxis": {
             "endlinecolor": "#2a3f5f",
             "gridcolor": "white",
             "linecolor": "white",
             "minorgridcolor": "white",
             "startlinecolor": "#2a3f5f"
            },
            "type": "carpet"
           }
          ],
          "choropleth": [
           {
            "colorbar": {
             "outlinewidth": 0,
             "ticks": ""
            },
            "type": "choropleth"
           }
          ],
          "contour": [
           {
            "colorbar": {
             "outlinewidth": 0,
             "ticks": ""
            },
            "colorscale": [
             [
              0,
              "#0d0887"
             ],
             [
              0.1111111111111111,
              "#46039f"
             ],
             [
              0.2222222222222222,
              "#7201a8"
             ],
             [
              0.3333333333333333,
              "#9c179e"
             ],
             [
              0.4444444444444444,
              "#bd3786"
             ],
             [
              0.5555555555555556,
              "#d8576b"
             ],
             [
              0.6666666666666666,
              "#ed7953"
             ],
             [
              0.7777777777777778,
              "#fb9f3a"
             ],
             [
              0.8888888888888888,
              "#fdca26"
             ],
             [
              1,
              "#f0f921"
             ]
            ],
            "type": "contour"
           }
          ],
          "contourcarpet": [
           {
            "colorbar": {
             "outlinewidth": 0,
             "ticks": ""
            },
            "type": "contourcarpet"
           }
          ],
          "heatmap": [
           {
            "colorbar": {
             "outlinewidth": 0,
             "ticks": ""
            },
            "colorscale": [
             [
              0,
              "#0d0887"
             ],
             [
              0.1111111111111111,
              "#46039f"
             ],
             [
              0.2222222222222222,
              "#7201a8"
             ],
             [
              0.3333333333333333,
              "#9c179e"
             ],
             [
              0.4444444444444444,
              "#bd3786"
             ],
             [
              0.5555555555555556,
              "#d8576b"
             ],
             [
              0.6666666666666666,
              "#ed7953"
             ],
             [
              0.7777777777777778,
              "#fb9f3a"
             ],
             [
              0.8888888888888888,
              "#fdca26"
             ],
             [
              1,
              "#f0f921"
             ]
            ],
            "type": "heatmap"
           }
          ],
          "heatmapgl": [
           {
            "colorbar": {
             "outlinewidth": 0,
             "ticks": ""
            },
            "colorscale": [
             [
              0,
              "#0d0887"
             ],
             [
              0.1111111111111111,
              "#46039f"
             ],
             [
              0.2222222222222222,
              "#7201a8"
             ],
             [
              0.3333333333333333,
              "#9c179e"
             ],
             [
              0.4444444444444444,
              "#bd3786"
             ],
             [
              0.5555555555555556,
              "#d8576b"
             ],
             [
              0.6666666666666666,
              "#ed7953"
             ],
             [
              0.7777777777777778,
              "#fb9f3a"
             ],
             [
              0.8888888888888888,
              "#fdca26"
             ],
             [
              1,
              "#f0f921"
             ]
            ],
            "type": "heatmapgl"
           }
          ],
          "histogram": [
           {
            "marker": {
             "pattern": {
              "fillmode": "overlay",
              "size": 10,
              "solidity": 0.2
             }
            },
            "type": "histogram"
           }
          ],
          "histogram2d": [
           {
            "colorbar": {
             "outlinewidth": 0,
             "ticks": ""
            },
            "colorscale": [
             [
              0,
              "#0d0887"
             ],
             [
              0.1111111111111111,
              "#46039f"
             ],
             [
              0.2222222222222222,
              "#7201a8"
             ],
             [
              0.3333333333333333,
              "#9c179e"
             ],
             [
              0.4444444444444444,
              "#bd3786"
             ],
             [
              0.5555555555555556,
              "#d8576b"
             ],
             [
              0.6666666666666666,
              "#ed7953"
             ],
             [
              0.7777777777777778,
              "#fb9f3a"
             ],
             [
              0.8888888888888888,
              "#fdca26"
             ],
             [
              1,
              "#f0f921"
             ]
            ],
            "type": "histogram2d"
           }
          ],
          "histogram2dcontour": [
           {
            "colorbar": {
             "outlinewidth": 0,
             "ticks": ""
            },
            "colorscale": [
             [
              0,
              "#0d0887"
             ],
             [
              0.1111111111111111,
              "#46039f"
             ],
             [
              0.2222222222222222,
              "#7201a8"
             ],
             [
              0.3333333333333333,
              "#9c179e"
             ],
             [
              0.4444444444444444,
              "#bd3786"
             ],
             [
              0.5555555555555556,
              "#d8576b"
             ],
             [
              0.6666666666666666,
              "#ed7953"
             ],
             [
              0.7777777777777778,
              "#fb9f3a"
             ],
             [
              0.8888888888888888,
              "#fdca26"
             ],
             [
              1,
              "#f0f921"
             ]
            ],
            "type": "histogram2dcontour"
           }
          ],
          "mesh3d": [
           {
            "colorbar": {
             "outlinewidth": 0,
             "ticks": ""
            },
            "type": "mesh3d"
           }
          ],
          "parcoords": [
           {
            "line": {
             "colorbar": {
              "outlinewidth": 0,
              "ticks": ""
             }
            },
            "type": "parcoords"
           }
          ],
          "pie": [
           {
            "automargin": true,
            "type": "pie"
           }
          ],
          "scatter": [
           {
            "fillpattern": {
             "fillmode": "overlay",
             "size": 10,
             "solidity": 0.2
            },
            "type": "scatter"
           }
          ],
          "scatter3d": [
           {
            "line": {
             "colorbar": {
              "outlinewidth": 0,
              "ticks": ""
             }
            },
            "marker": {
             "colorbar": {
              "outlinewidth": 0,
              "ticks": ""
             }
            },
            "type": "scatter3d"
           }
          ],
          "scattercarpet": [
           {
            "marker": {
             "colorbar": {
              "outlinewidth": 0,
              "ticks": ""
             }
            },
            "type": "scattercarpet"
           }
          ],
          "scattergeo": [
           {
            "marker": {
             "colorbar": {
              "outlinewidth": 0,
              "ticks": ""
             }
            },
            "type": "scattergeo"
           }
          ],
          "scattergl": [
           {
            "marker": {
             "colorbar": {
              "outlinewidth": 0,
              "ticks": ""
             }
            },
            "type": "scattergl"
           }
          ],
          "scattermapbox": [
           {
            "marker": {
             "colorbar": {
              "outlinewidth": 0,
              "ticks": ""
             }
            },
            "type": "scattermapbox"
           }
          ],
          "scatterpolar": [
           {
            "marker": {
             "colorbar": {
              "outlinewidth": 0,
              "ticks": ""
             }
            },
            "type": "scatterpolar"
           }
          ],
          "scatterpolargl": [
           {
            "marker": {
             "colorbar": {
              "outlinewidth": 0,
              "ticks": ""
             }
            },
            "type": "scatterpolargl"
           }
          ],
          "scatterternary": [
           {
            "marker": {
             "colorbar": {
              "outlinewidth": 0,
              "ticks": ""
             }
            },
            "type": "scatterternary"
           }
          ],
          "surface": [
           {
            "colorbar": {
             "outlinewidth": 0,
             "ticks": ""
            },
            "colorscale": [
             [
              0,
              "#0d0887"
             ],
             [
              0.1111111111111111,
              "#46039f"
             ],
             [
              0.2222222222222222,
              "#7201a8"
             ],
             [
              0.3333333333333333,
              "#9c179e"
             ],
             [
              0.4444444444444444,
              "#bd3786"
             ],
             [
              0.5555555555555556,
              "#d8576b"
             ],
             [
              0.6666666666666666,
              "#ed7953"
             ],
             [
              0.7777777777777778,
              "#fb9f3a"
             ],
             [
              0.8888888888888888,
              "#fdca26"
             ],
             [
              1,
              "#f0f921"
             ]
            ],
            "type": "surface"
           }
          ],
          "table": [
           {
            "cells": {
             "fill": {
              "color": "#EBF0F8"
             },
             "line": {
              "color": "white"
             }
            },
            "header": {
             "fill": {
              "color": "#C8D4E3"
             },
             "line": {
              "color": "white"
             }
            },
            "type": "table"
           }
          ]
         },
         "layout": {
          "annotationdefaults": {
           "arrowcolor": "#2a3f5f",
           "arrowhead": 0,
           "arrowwidth": 1
          },
          "autotypenumbers": "strict",
          "coloraxis": {
           "colorbar": {
            "outlinewidth": 0,
            "ticks": ""
           }
          },
          "colorscale": {
           "diverging": [
            [
             0,
             "#8e0152"
            ],
            [
             0.1,
             "#c51b7d"
            ],
            [
             0.2,
             "#de77ae"
            ],
            [
             0.3,
             "#f1b6da"
            ],
            [
             0.4,
             "#fde0ef"
            ],
            [
             0.5,
             "#f7f7f7"
            ],
            [
             0.6,
             "#e6f5d0"
            ],
            [
             0.7,
             "#b8e186"
            ],
            [
             0.8,
             "#7fbc41"
            ],
            [
             0.9,
             "#4d9221"
            ],
            [
             1,
             "#276419"
            ]
           ],
           "sequential": [
            [
             0,
             "#0d0887"
            ],
            [
             0.1111111111111111,
             "#46039f"
            ],
            [
             0.2222222222222222,
             "#7201a8"
            ],
            [
             0.3333333333333333,
             "#9c179e"
            ],
            [
             0.4444444444444444,
             "#bd3786"
            ],
            [
             0.5555555555555556,
             "#d8576b"
            ],
            [
             0.6666666666666666,
             "#ed7953"
            ],
            [
             0.7777777777777778,
             "#fb9f3a"
            ],
            [
             0.8888888888888888,
             "#fdca26"
            ],
            [
             1,
             "#f0f921"
            ]
           ],
           "sequentialminus": [
            [
             0,
             "#0d0887"
            ],
            [
             0.1111111111111111,
             "#46039f"
            ],
            [
             0.2222222222222222,
             "#7201a8"
            ],
            [
             0.3333333333333333,
             "#9c179e"
            ],
            [
             0.4444444444444444,
             "#bd3786"
            ],
            [
             0.5555555555555556,
             "#d8576b"
            ],
            [
             0.6666666666666666,
             "#ed7953"
            ],
            [
             0.7777777777777778,
             "#fb9f3a"
            ],
            [
             0.8888888888888888,
             "#fdca26"
            ],
            [
             1,
             "#f0f921"
            ]
           ]
          },
          "colorway": [
           "#636efa",
           "#EF553B",
           "#00cc96",
           "#ab63fa",
           "#FFA15A",
           "#19d3f3",
           "#FF6692",
           "#B6E880",
           "#FF97FF",
           "#FECB52"
          ],
          "font": {
           "color": "#2a3f5f"
          },
          "geo": {
           "bgcolor": "white",
           "lakecolor": "white",
           "landcolor": "#E5ECF6",
           "showlakes": true,
           "showland": true,
           "subunitcolor": "white"
          },
          "hoverlabel": {
           "align": "left"
          },
          "hovermode": "closest",
          "mapbox": {
           "style": "light"
          },
          "paper_bgcolor": "white",
          "plot_bgcolor": "#E5ECF6",
          "polar": {
           "angularaxis": {
            "gridcolor": "white",
            "linecolor": "white",
            "ticks": ""
           },
           "bgcolor": "#E5ECF6",
           "radialaxis": {
            "gridcolor": "white",
            "linecolor": "white",
            "ticks": ""
           }
          },
          "scene": {
           "xaxis": {
            "backgroundcolor": "#E5ECF6",
            "gridcolor": "white",
            "gridwidth": 2,
            "linecolor": "white",
            "showbackground": true,
            "ticks": "",
            "zerolinecolor": "white"
           },
           "yaxis": {
            "backgroundcolor": "#E5ECF6",
            "gridcolor": "white",
            "gridwidth": 2,
            "linecolor": "white",
            "showbackground": true,
            "ticks": "",
            "zerolinecolor": "white"
           },
           "zaxis": {
            "backgroundcolor": "#E5ECF6",
            "gridcolor": "white",
            "gridwidth": 2,
            "linecolor": "white",
            "showbackground": true,
            "ticks": "",
            "zerolinecolor": "white"
           }
          },
          "shapedefaults": {
           "line": {
            "color": "#2a3f5f"
           }
          },
          "ternary": {
           "aaxis": {
            "gridcolor": "white",
            "linecolor": "white",
            "ticks": ""
           },
           "baxis": {
            "gridcolor": "white",
            "linecolor": "white",
            "ticks": ""
           },
           "bgcolor": "#E5ECF6",
           "caxis": {
            "gridcolor": "white",
            "linecolor": "white",
            "ticks": ""
           }
          },
          "title": {
           "x": 0.05
          },
          "xaxis": {
           "automargin": true,
           "gridcolor": "white",
           "linecolor": "white",
           "ticks": "",
           "title": {
            "standoff": 15
           },
           "zerolinecolor": "white",
           "zerolinewidth": 2
          },
          "yaxis": {
           "automargin": true,
           "gridcolor": "white",
           "linecolor": "white",
           "ticks": "",
           "title": {
            "standoff": 15
           },
           "zerolinecolor": "white",
           "zerolinewidth": 2
          }
         }
        },
        "title": {
         "font": {
          "size": 24
         },
         "text": "Siniestros sin datos de Barrio",
         "x": 0.5,
         "y": 0.95
        },
        "width": 800
       }
      }
     },
     "metadata": {},
     "output_type": "display_data"
    }
   ],
   "source": [
    "fig = px.scatter_mapbox(\n",
    "    homicidios_sin_barrio,\n",
    "    lat = 'POS Y',\n",
    "    lon = 'POS X',\n",
    "    zoom = 10.8,\n",
    "    width = 800,   \n",
    "    height = 680 \n",
    ")\n",
    "\n",
    "fig.update_layout(mapbox_style = 'open-street-map')\n",
    "fig.update_layout(title_x=0.5,\n",
    "                  title_y=0.95, \n",
    "                  title_text='Siniestros sin datos de Barrio',\n",
    "                  title_font=dict(size=24))\n",
    "fig.update_traces(marker=dict(size=7, color='#113946'))  \n",
    "\n",
    "\n",
    "fig.show()"
   ]
  },
  {
   "cell_type": "markdown",
   "metadata": {},
   "source": [
    "Obseramos que estos siniestros ocurrieron sobre la Gral. Paz o al límite de la Ciudad Autonoma de Buenos Aires. Asi que procederemos a imputarlo como ***Sobre Gral Paz***  para dar a entender los datos."
   ]
  },
  {
   "cell_type": "code",
   "execution_count": 40,
   "metadata": {},
   "outputs": [],
   "source": [
    "homicidios['Barrio'] = homicidios['Barrio'].replace('', 'Sobre Gral. Paz')"
   ]
  },
  {
   "cell_type": "markdown",
   "metadata": {},
   "source": [
    "### Guardado del DataFrame"
   ]
  },
  {
   "cell_type": "code",
   "execution_count": 42,
   "metadata": {},
   "outputs": [],
   "source": [
    "homicidios.to_csv('../Datasets/Cleans/homicidios_hechos.csv', index=False, encoding='utf-8')"
   ]
  },
  {
   "cell_type": "markdown",
   "metadata": {},
   "source": [
    "## Página de *Wikipedia*\n",
    "\n",
    "La página que usaremos es esta: https://es.wikipedia.org/wiki/Censo_argentino_de_2022, el cual tiene información estadístico del Censo del 2010 y 2022 categorizado por *Jurisdicción* y *Aglomerado Urbano*."
   ]
  },
  {
   "cell_type": "code",
   "execution_count": 2,
   "metadata": {},
   "outputs": [],
   "source": [
    "url = 'https://es.wikipedia.org/wiki/Censo_argentino_de_2022'\n",
    "\n",
    "# Realizamos una solicitud GET a la página\n",
    "response = requests.get(url)\n",
    "\n",
    "# Analizamos el contenido HTML de la página\n",
    "soup = BeautifulSoup(response.content, 'html.parser')\n",
    "\n",
    "# Buscamos la segunda tabla de la pagina con la clase 'wikitable'\n",
    "tabla = soup.find_all('table', class_='wikitable')[0]\n",
    "\n",
    "# Extraemos los datos de la tabla y lo guardamos en una lista\n",
    "datos = []\n",
    "filas = tabla.find_all('tr')\n",
    "\n",
    "for fila in filas[1:]:  \n",
    "    celdas = fila.find_all(['th', 'td'])\n",
    "    fila_datos = [celda.get_text(strip=True) for celda in celdas]\n",
    "    datos.append(fila_datos)"
   ]
  },
  {
   "cell_type": "markdown",
   "metadata": {},
   "source": [
    "Vemos los datos extraidos y seleccionamos los datos de la Ciudad Autónoma de Buenos Aires."
   ]
  },
  {
   "cell_type": "code",
   "execution_count": 4,
   "metadata": {},
   "outputs": [
    {
     "name": "stdout",
     "output_type": "stream",
     "text": [
      "['1', 'Provincia de Buenos Aires', '15.625.084[6]\\u200b', '17.569.053[7]\\u200b', '12,4', '9,8']\n",
      "['2', 'Córdoba', '3.308.876', '3.978.984', '20,3', '15,5']\n",
      "['3', 'Santa Fe', '3.194.537', '3.556.522', '11,3', '9,0']\n",
      "['4', 'Ciudad Autónoma de Buenos Aires', '2.890.151', '3.120.612', '8,0', '6,4']\n",
      "['5', 'Mendoza', '1.738.929', '2.014.533', '15,8', '12,3']\n",
      "['6', 'Tucumán', '1.448.188', '1.703.186', '17,6', '13,6']\n",
      "['7', 'Salta', '1.214.441', '1.440.672', '18,6', '14,3']\n",
      "['8', 'Entre Ríos', '1.235.994', '1.426.426', '15,4', '12,0']\n",
      "['9', 'Misiones', '1.101.593', '1.280.960', '16,3', '12,7']\n",
      "['10', 'Corrientes', '992.595', '1.197.553', '20,6', '15,8']\n",
      "['11', 'Chaco', '1.055.259', '1.142.963', '8,3', '6,7']\n",
      "['12', 'Santiago del Estero', '874.006', '1.054.028', '20,6', '15,7']\n",
      "['13', 'San Juan', '681.055', '818.234', '20,1', '15,4']\n",
      "['14', 'Jujuy', '673.307', '797.955', '18,5', '14,3']\n",
      "['15', 'Río Negro', '638.645', '762.067', '19,3', '14,8']\n",
      "['16', 'Neuquén', '551.266', '726.590', '31,8', '23,3']\n",
      "['17', 'Formosa', '530.162', '606.041', '14,3', '11,2']\n",
      "['18', 'Chubut', '509.108', '603.120', '18,5', '14,2']\n",
      "['19', 'San Luis', '432.310', '540.905', '25,1', '18,9']\n",
      "['20', 'Catamarca', '367.828', '429.556', '16,8', '13,0']\n",
      "['21', 'La Rioja', '333.642', '384.607', '15,3', '11,9']\n",
      "['22', 'La Pampa', '318.951', '366.022', '14,8', '11,5']\n",
      "['23', 'Santa Cruz', '273.964', '333.473', '21,7', '16,5']\n",
      "['24', 'Tierra del Fuego', '127.205', '190.641', '49,9', '34,3']\n",
      "['', 'Total del país', '40.117.096', '46.044.703', '14,8', '11,6']\n"
     ]
    }
   ],
   "source": [
    "for fila in datos:\n",
    "    print(fila)"
   ]
  },
  {
   "cell_type": "code",
   "execution_count": 5,
   "metadata": {},
   "outputs": [],
   "source": [
    "data_caba = datos[3]"
   ]
  },
  {
   "cell_type": "code",
   "execution_count": 6,
   "metadata": {},
   "outputs": [
    {
     "data": {
      "text/plain": [
       "['4',\n",
       " 'Ciudad Autónoma de Buenos Aires',\n",
       " '2.890.151',\n",
       " '3.120.612',\n",
       " '8,0',\n",
       " '6,4']"
      ]
     },
     "execution_count": 6,
     "metadata": {},
     "output_type": "execute_result"
    }
   ],
   "source": [
    "data_caba"
   ]
  },
  {
   "cell_type": "markdown",
   "metadata": {},
   "source": [
    "Seleccionamos los valores de la población del 2010 y 2022 de la lista"
   ]
  },
  {
   "cell_type": "code",
   "execution_count": 7,
   "metadata": {},
   "outputs": [],
   "source": [
    "poblacion_2010 = int(data_caba[2].replace('.', '').replace(',', ''))\n",
    "poblacion_2022 = int(data_caba[3].replace('.', '').replace(',', ''))"
   ]
  },
  {
   "cell_type": "markdown",
   "metadata": {},
   "source": [
    "Creamos una lista de población por año calculando el crecimiento anual promedio."
   ]
  },
  {
   "cell_type": "code",
   "execution_count": 9,
   "metadata": {},
   "outputs": [],
   "source": [
    "anios = list(range(2010, 2023))\n",
    "\n",
    "poblacion_por_anio = [poblacion_2010 + (poblacion_2022 - poblacion_2010) * (anio - 2010) / 12 for anio in anios]\n",
    "\n",
    "poblacion_por_anio = list(map(int, poblacion_por_anio))"
   ]
  },
  {
   "cell_type": "code",
   "execution_count": 10,
   "metadata": {},
   "outputs": [
    {
     "data": {
      "text/plain": [
       "[2890151,\n",
       " 2909356,\n",
       " 2928561,\n",
       " 2947766,\n",
       " 2966971,\n",
       " 2986176,\n",
       " 3005381,\n",
       " 3024586,\n",
       " 3043791,\n",
       " 3062996,\n",
       " 3082201,\n",
       " 3101406,\n",
       " 3120612]"
      ]
     },
     "execution_count": 10,
     "metadata": {},
     "output_type": "execute_result"
    }
   ],
   "source": [
    "poblacion_por_anio"
   ]
  },
  {
   "cell_type": "markdown",
   "metadata": {},
   "source": [
    "Creamos un DataFrame con los datos"
   ]
  },
  {
   "cell_type": "code",
   "execution_count": 11,
   "metadata": {},
   "outputs": [],
   "source": [
    "data = {'Año': anios, 'Población': poblacion_por_anio}\n",
    "poblacion_caba = pd.DataFrame(data)"
   ]
  },
  {
   "cell_type": "code",
   "execution_count": 12,
   "metadata": {},
   "outputs": [
    {
     "data": {
      "text/html": [
       "<div>\n",
       "<style scoped>\n",
       "    .dataframe tbody tr th:only-of-type {\n",
       "        vertical-align: middle;\n",
       "    }\n",
       "\n",
       "    .dataframe tbody tr th {\n",
       "        vertical-align: top;\n",
       "    }\n",
       "\n",
       "    .dataframe thead th {\n",
       "        text-align: right;\n",
       "    }\n",
       "</style>\n",
       "<table border=\"1\" class=\"dataframe\">\n",
       "  <thead>\n",
       "    <tr style=\"text-align: right;\">\n",
       "      <th></th>\n",
       "      <th>Año</th>\n",
       "      <th>Población</th>\n",
       "    </tr>\n",
       "  </thead>\n",
       "  <tbody>\n",
       "    <tr>\n",
       "      <th>0</th>\n",
       "      <td>2010</td>\n",
       "      <td>2890151</td>\n",
       "    </tr>\n",
       "    <tr>\n",
       "      <th>1</th>\n",
       "      <td>2011</td>\n",
       "      <td>2909356</td>\n",
       "    </tr>\n",
       "    <tr>\n",
       "      <th>2</th>\n",
       "      <td>2012</td>\n",
       "      <td>2928561</td>\n",
       "    </tr>\n",
       "    <tr>\n",
       "      <th>3</th>\n",
       "      <td>2013</td>\n",
       "      <td>2947766</td>\n",
       "    </tr>\n",
       "    <tr>\n",
       "      <th>4</th>\n",
       "      <td>2014</td>\n",
       "      <td>2966971</td>\n",
       "    </tr>\n",
       "    <tr>\n",
       "      <th>5</th>\n",
       "      <td>2015</td>\n",
       "      <td>2986176</td>\n",
       "    </tr>\n",
       "    <tr>\n",
       "      <th>6</th>\n",
       "      <td>2016</td>\n",
       "      <td>3005381</td>\n",
       "    </tr>\n",
       "    <tr>\n",
       "      <th>7</th>\n",
       "      <td>2017</td>\n",
       "      <td>3024586</td>\n",
       "    </tr>\n",
       "    <tr>\n",
       "      <th>8</th>\n",
       "      <td>2018</td>\n",
       "      <td>3043791</td>\n",
       "    </tr>\n",
       "    <tr>\n",
       "      <th>9</th>\n",
       "      <td>2019</td>\n",
       "      <td>3062996</td>\n",
       "    </tr>\n",
       "    <tr>\n",
       "      <th>10</th>\n",
       "      <td>2020</td>\n",
       "      <td>3082201</td>\n",
       "    </tr>\n",
       "    <tr>\n",
       "      <th>11</th>\n",
       "      <td>2021</td>\n",
       "      <td>3101406</td>\n",
       "    </tr>\n",
       "    <tr>\n",
       "      <th>12</th>\n",
       "      <td>2022</td>\n",
       "      <td>3120612</td>\n",
       "    </tr>\n",
       "  </tbody>\n",
       "</table>\n",
       "</div>"
      ],
      "text/plain": [
       "     Año  Población\n",
       "0   2010    2890151\n",
       "1   2011    2909356\n",
       "2   2012    2928561\n",
       "3   2013    2947766\n",
       "4   2014    2966971\n",
       "5   2015    2986176\n",
       "6   2016    3005381\n",
       "7   2017    3024586\n",
       "8   2018    3043791\n",
       "9   2019    3062996\n",
       "10  2020    3082201\n",
       "11  2021    3101406\n",
       "12  2022    3120612"
      ]
     },
     "execution_count": 12,
     "metadata": {},
     "output_type": "execute_result"
    }
   ],
   "source": [
    "poblacion_caba"
   ]
  },
  {
   "cell_type": "markdown",
   "metadata": {},
   "source": [
    "Guardamos el DataFrame en un archivo CSV"
   ]
  },
  {
   "cell_type": "code",
   "execution_count": 13,
   "metadata": {},
   "outputs": [],
   "source": [
    "poblacion_caba.to_csv('../Datasets/Cleans/población_caba.csv', index= False, encoding='utf-8')"
   ]
  }
 ],
 "metadata": {
  "kernelspec": {
   "display_name": "Python 3",
   "language": "python",
   "name": "python3"
  },
  "language_info": {
   "codemirror_mode": {
    "name": "ipython",
    "version": 3
   },
   "file_extension": ".py",
   "mimetype": "text/x-python",
   "name": "python",
   "nbconvert_exporter": "python",
   "pygments_lexer": "ipython3",
   "version": "3.11.1"
  },
  "orig_nbformat": 4
 },
 "nbformat": 4,
 "nbformat_minor": 2
}
